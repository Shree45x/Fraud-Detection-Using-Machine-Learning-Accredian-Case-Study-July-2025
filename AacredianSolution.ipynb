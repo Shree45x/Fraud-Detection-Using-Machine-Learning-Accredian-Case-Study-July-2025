{
 "cells": [
  {
   "cell_type": "code",
   "execution_count": 40,
   "id": "7ec65467",
   "metadata": {},
   "outputs": [],
   "source": [
    "import pandas as pd\n",
    "import numpy as np\n",
    "from sklearn.model_selection import train_test_split\n",
    "from sklearn.preprocessing import StandardScaler\n",
    "from sklearn.ensemble import RandomForestClassifier\n",
    "from sklearn.metrics import classification_report, confusion_matrix, roc_auc_score, roc_curve\n",
    "import matplotlib.pyplot as plt\n",
    "import seaborn as sns\n",
    "from sklearn.datasets import make_classification\n",
    "import xgboost as xgb"
   ]
  },
  {
   "cell_type": "code",
   "execution_count": 41,
   "id": "78b6692a",
   "metadata": {},
   "outputs": [],
   "source": [
    "import warnings\n",
    "warnings.filterwarnings('ignore')"
   ]
  },
  {
   "cell_type": "code",
   "execution_count": 42,
   "id": "7e2489d0",
   "metadata": {},
   "outputs": [],
   "source": [
    "data='Fraud1.csv'\n",
    "df=pd.read_csv(data)"
   ]
  },
  {
   "cell_type": "code",
   "execution_count": 43,
   "id": "b7764661",
   "metadata": {},
   "outputs": [
    {
     "data": {
      "text/html": [
       "<div>\n",
       "<style scoped>\n",
       "    .dataframe tbody tr th:only-of-type {\n",
       "        vertical-align: middle;\n",
       "    }\n",
       "\n",
       "    .dataframe tbody tr th {\n",
       "        vertical-align: top;\n",
       "    }\n",
       "\n",
       "    .dataframe thead th {\n",
       "        text-align: right;\n",
       "    }\n",
       "</style>\n",
       "<table border=\"1\" class=\"dataframe\">\n",
       "  <thead>\n",
       "    <tr style=\"text-align: right;\">\n",
       "      <th></th>\n",
       "      <th>step</th>\n",
       "      <th>type</th>\n",
       "      <th>amount</th>\n",
       "      <th>nameOrig</th>\n",
       "      <th>oldbalanceOrg</th>\n",
       "      <th>newbalanceOrig</th>\n",
       "      <th>nameDest</th>\n",
       "      <th>oldbalanceDest</th>\n",
       "      <th>newbalanceDest</th>\n",
       "      <th>isFraud</th>\n",
       "      <th>isFlaggedFraud</th>\n",
       "    </tr>\n",
       "  </thead>\n",
       "  <tbody>\n",
       "    <tr>\n",
       "      <th>0</th>\n",
       "      <td>1</td>\n",
       "      <td>PAYMENT</td>\n",
       "      <td>9839.64</td>\n",
       "      <td>C1231006815</td>\n",
       "      <td>170136.0</td>\n",
       "      <td>160296.36</td>\n",
       "      <td>M1979787155</td>\n",
       "      <td>0.0</td>\n",
       "      <td>0.0</td>\n",
       "      <td>0</td>\n",
       "      <td>0</td>\n",
       "    </tr>\n",
       "    <tr>\n",
       "      <th>1</th>\n",
       "      <td>1</td>\n",
       "      <td>PAYMENT</td>\n",
       "      <td>1864.28</td>\n",
       "      <td>C1666544295</td>\n",
       "      <td>21249.0</td>\n",
       "      <td>19384.72</td>\n",
       "      <td>M2044282225</td>\n",
       "      <td>0.0</td>\n",
       "      <td>0.0</td>\n",
       "      <td>0</td>\n",
       "      <td>0</td>\n",
       "    </tr>\n",
       "    <tr>\n",
       "      <th>2</th>\n",
       "      <td>1</td>\n",
       "      <td>TRANSFER</td>\n",
       "      <td>181.00</td>\n",
       "      <td>C1305486145</td>\n",
       "      <td>181.0</td>\n",
       "      <td>0.00</td>\n",
       "      <td>C553264065</td>\n",
       "      <td>0.0</td>\n",
       "      <td>0.0</td>\n",
       "      <td>1</td>\n",
       "      <td>0</td>\n",
       "    </tr>\n",
       "    <tr>\n",
       "      <th>3</th>\n",
       "      <td>1</td>\n",
       "      <td>CASH_OUT</td>\n",
       "      <td>181.00</td>\n",
       "      <td>C840083671</td>\n",
       "      <td>181.0</td>\n",
       "      <td>0.00</td>\n",
       "      <td>C38997010</td>\n",
       "      <td>21182.0</td>\n",
       "      <td>0.0</td>\n",
       "      <td>1</td>\n",
       "      <td>0</td>\n",
       "    </tr>\n",
       "    <tr>\n",
       "      <th>4</th>\n",
       "      <td>1</td>\n",
       "      <td>PAYMENT</td>\n",
       "      <td>11668.14</td>\n",
       "      <td>C2048537720</td>\n",
       "      <td>41554.0</td>\n",
       "      <td>29885.86</td>\n",
       "      <td>M1230701703</td>\n",
       "      <td>0.0</td>\n",
       "      <td>0.0</td>\n",
       "      <td>0</td>\n",
       "      <td>0</td>\n",
       "    </tr>\n",
       "  </tbody>\n",
       "</table>\n",
       "</div>"
      ],
      "text/plain": [
       "   step      type    amount     nameOrig  oldbalanceOrg  newbalanceOrig  \\\n",
       "0     1   PAYMENT   9839.64  C1231006815       170136.0       160296.36   \n",
       "1     1   PAYMENT   1864.28  C1666544295        21249.0        19384.72   \n",
       "2     1  TRANSFER    181.00  C1305486145          181.0            0.00   \n",
       "3     1  CASH_OUT    181.00   C840083671          181.0            0.00   \n",
       "4     1   PAYMENT  11668.14  C2048537720        41554.0        29885.86   \n",
       "\n",
       "      nameDest  oldbalanceDest  newbalanceDest  isFraud  isFlaggedFraud  \n",
       "0  M1979787155             0.0             0.0        0               0  \n",
       "1  M2044282225             0.0             0.0        0               0  \n",
       "2   C553264065             0.0             0.0        1               0  \n",
       "3    C38997010         21182.0             0.0        1               0  \n",
       "4  M1230701703             0.0             0.0        0               0  "
      ]
     },
     "execution_count": 43,
     "metadata": {},
     "output_type": "execute_result"
    }
   ],
   "source": [
    "df.head()"
   ]
  },
  {
   "cell_type": "markdown",
   "id": "5d801433",
   "metadata": {},
   "source": [
    "# 1. Data cleaning including missing values, outliers and multi-collinearity.\n"
   ]
  },
  {
   "cell_type": "code",
   "execution_count": 44,
   "id": "abdb69c7",
   "metadata": {},
   "outputs": [
    {
     "data": {
      "text/plain": [
       "step              0\n",
       "type              0\n",
       "amount            0\n",
       "nameOrig          0\n",
       "oldbalanceOrg     0\n",
       "newbalanceOrig    0\n",
       "nameDest          0\n",
       "oldbalanceDest    0\n",
       "newbalanceDest    0\n",
       "isFraud           0\n",
       "isFlaggedFraud    0\n",
       "dtype: int64"
      ]
     },
     "execution_count": 44,
     "metadata": {},
     "output_type": "execute_result"
    }
   ],
   "source": [
    "#Missing Values\n",
    "df.isnull().sum()\n"
   ]
  },
  {
   "cell_type": "code",
   "execution_count": 45,
   "id": "9efcf311",
   "metadata": {},
   "outputs": [
    {
     "data": {
      "image/png": "[encoded data removed]",
      "text/plain": [
       "<Figure size 1000x400 with 1 Axes>"
      ]
     },
     "metadata": {},
     "output_type": "display_data"
    }
   ],
   "source": [
    "#Handel Outliers\n",
    "df['log_amount'] = np.log1p(df['amount'])\n",
    "plt.figure(figsize=(10, 4))\n",
    "sns.histplot(df['log_amount'], bins=100, kde=True)\n",
    "plt.title(\"Log-transformed Transaction Amount\")\n",
    "plt.show()"
   ]
  },
  {
   "cell_type": "code",
   "execution_count": 46,
   "id": "594c9797",
   "metadata": {},
   "outputs": [],
   "source": [
    "#Multicollinearity Check\n",
    "#derived features to reduce multicollinearity\n",
    "df['deltaOrig'] = df['oldbalanceOrg'] - df['newbalanceOrig']\n",
    "df['deltaDest'] = df['newbalanceDest'] - df['oldbalanceDest']"
   ]
  },
  {
   "cell_type": "code",
   "execution_count": 47,
   "id": "6f9a9c24",
   "metadata": {},
   "outputs": [
    {
     "data": {
      "text/plain": [
       "0            9839.64\n",
       "1            1864.28\n",
       "2             181.00\n",
       "3             181.00\n",
       "4           11668.14\n",
       "             ...    \n",
       "1048570    132557.35\n",
       "1048571      9917.36\n",
       "1048572     14140.05\n",
       "1048573     10020.05\n",
       "1048574     11450.03\n",
       "Name: deltaOrig, Length: 1048575, dtype: float64"
      ]
     },
     "execution_count": 47,
     "metadata": {},
     "output_type": "execute_result"
    }
   ],
   "source": [
    "df['deltaOrig']"
   ]
  },
  {
   "cell_type": "code",
   "execution_count": 48,
   "id": "6ec141c9",
   "metadata": {},
   "outputs": [
    {
     "data": {
      "text/plain": [
       "0               0.00\n",
       "1               0.00\n",
       "2               0.00\n",
       "3          -21182.00\n",
       "4               0.00\n",
       "             ...    \n",
       "1048570    132557.35\n",
       "1048571         0.00\n",
       "1048572         0.00\n",
       "1048573         0.00\n",
       "1048574         0.00\n",
       "Name: deltaDest, Length: 1048575, dtype: float64"
      ]
     },
     "execution_count": 48,
     "metadata": {},
     "output_type": "execute_result"
    }
   ],
   "source": [
    "df['deltaDest']"
   ]
  },
  {
   "cell_type": "code",
   "execution_count": 49,
   "id": "f6488dbd",
   "metadata": {},
   "outputs": [
    {
     "data": {
      "image/png": "[encoded data removed]",
      "text/plain": [
       "<Figure size 1000x600 with 2 Axes>"
      ]
     },
     "metadata": {},
     "output_type": "display_data"
    }
   ],
   "source": [
    "numeric_cols = ['amount', 'oldbalanceOrg', 'newbalanceOrig', \n",
    "                'oldbalanceDest', 'newbalanceDest', 'deltaOrig', 'deltaDest']\n",
    "\n",
    "plt.figure(figsize=(10, 6))\n",
    "sns.heatmap(df[numeric_cols].corr(), annot=True, cmap='coolwarm')\n",
    "plt.title(\"Correlation Matrix\")\n",
    "plt.show()"
   ]
  },
  {
   "cell_type": "markdown",
   "id": "32190e6a",
   "metadata": {},
   "source": [
    "# 2. Describe your fraud detection model in elaboration.\n"
   ]
  },
  {
   "cell_type": "code",
   "execution_count": 50,
   "id": "cdbc5a95",
   "metadata": {
    "scrolled": true
   },
   "outputs": [],
   "source": [
    "#Filter only relevant transaction types\n",
    "# Keep only rows where either type_TRANSFER or type_CASH_OUT is \n",
    "df = df[df['type'].isin(['TRANSFER', 'CASH_OUT'])]"
   ]
  },
  {
   "cell_type": "code",
   "execution_count": 51,
   "id": "32d49822",
   "metadata": {},
   "outputs": [
    {
     "ename": "SyntaxError",
     "evalue": "invalid syntax (1559975811.py, line 1)",
     "output_type": "error",
     "traceback": [
      "\u001b[1;36m  Cell \u001b[1;32mIn[51], line 1\u001b[1;36m\u001b[0m\n\u001b[1;33m    Create useful features\u001b[0m\n\u001b[1;37m           ^\u001b[0m\n\u001b[1;31mSyntaxError\u001b[0m\u001b[1;31m:\u001b[0m invalid syntax\n"
     ]
    }
   ],
   "source": [
    "Create useful features\n",
    "df['deltaOrig'] = df['oldbalanceOrg'] - df['newbalanceOrig']\n",
    "df['deltaDest'] = df['newbalanceDest'] - df['oldbalanceDest']"
   ]
  },
  {
   "cell_type": "code",
   "execution_count": null,
   "id": "864dc001",
   "metadata": {},
   "outputs": [],
   "source": [
    "#Drop Unwanted Column\n",
    "df_model = df[['amount', 'deltaOrig', 'deltaDest', 'type', 'isFraud']]\n",
    "df_model = pd.get_dummies(df_model, columns=['type'], drop_first=True)"
   ]
  },
  {
   "cell_type": "code",
   "execution_count": null,
   "id": "c22ba3e4",
   "metadata": {},
   "outputs": [],
   "source": [
    "# Features and Target\n",
    "X = df_model.drop('isFraud', axis=1)\n",
    "y = df_model['isFraud']"
   ]
  },
  {
   "cell_type": "code",
   "execution_count": null,
   "id": "83b2b3cb",
   "metadata": {},
   "outputs": [],
   "source": [
    "Train-test split\n",
    "X_train, X_test, y_train, y_test = train_test_split(X, y, test_size=0.2, random_state=42, stratify=y)"
   ]
  },
  {
   "cell_type": "code",
   "execution_count": null,
   "id": "13b8d632",
   "metadata": {},
   "outputs": [],
   "source": [
    "# Step 4: Train XGBoost model\n",
    "model = xgb.XGBClassifier(use_label_encoder=False, eval_metric='logloss')\n",
    "model.fit(X_train, y_train)"
   ]
  },
  {
   "cell_type": "code",
   "execution_count": null,
   "id": "b51e132b",
   "metadata": {},
   "outputs": [],
   "source": [
    "# Step 5: Predict and evaluate\n",
    "y_pred = model.predict(X_test)"
   ]
  },
  {
   "cell_type": "code",
   "execution_count": null,
   "id": "ad28b4a5",
   "metadata": {},
   "outputs": [],
   "source": [
    "print(\"Confusion Matrix:\\n\", confusion_matrix(y_test, y_pred))\n",
    "\n",
    "\n",
    "print(\"\\nClassification Report:\\n\", classification_report(y_test, y_pred, digits=4))\n",
    "\n",
    "accuracy = accuracy_score(y_test, y_pred)\n",
    "print(f\"Accuracy: {accuracy:.4f}\")"
   ]
  },
  {
   "cell_type": "markdown",
   "id": "db2316fc",
   "metadata": {},
   "source": [
    "# 3.How did you select variables to be included in the model?\n"
   ]
  },
  {
   "cell_type": "code",
   "execution_count": null,
   "id": "4235e11a",
   "metadata": {},
   "outputs": [],
   "source": [
    "# Create delta features\n",
    "df['deltaOrig'] = df['oldbalanceOrg'] - df['newbalanceOrig']\n",
    "df['deltaDest'] = df['newbalanceDest'] - df['oldbalanceDest']\n",
    "\n",
    "# Keep relevant columns only\n",
    "df_model = df[['amount', 'deltaOrig', 'deltaDest', 'type', 'isFraud']]\n",
    "df_model = pd.get_dummies(df_model, columns=['type'], drop_first=True)  # one-hot encode type\n"
   ]
  },
  {
   "cell_type": "markdown",
   "id": "f84dfc99",
   "metadata": {},
   "source": [
    "# Q4: Demonstrate the performance of the model using best set of tools"
   ]
  },
  {
   "cell_type": "code",
   "execution_count": null,
   "id": "4f802cf3",
   "metadata": {},
   "outputs": [],
   "source": [
    "from sklearn.metrics import (\n",
    "    accuracy_score,\n",
    "    precision_score,\n",
    "    recall_score,\n",
    "    f1_score,\n",
    "    confusion_matrix,\n",
    "    roc_curve,\n",
    "    roc_auc_score\n",
    ")\n"
   ]
  },
  {
   "cell_type": "code",
   "execution_count": null,
   "id": "2c47f0e9",
   "metadata": {},
   "outputs": [],
   "source": [
    "# Predict probabilities for ROC\n",
    "y_proba = model.predict_proba(X_test)[:, 1]  # probability for class 1 (fraud)\n",
    "\n",
    "# Basic metrics\n",
    "print(\"Accuracy:\", round(accuracy_score(y_test, y_pred), 4))\n",
    "print(\"Precision:\", round(precision_score(y_test, y_pred), 4))\n",
    "print(\"Recall:\", round(recall_score(y_test, y_pred), 4))\n",
    "print(\"F1 Score:\", round(f1_score(y_test, y_pred), 4))\n",
    "\n",
    "# Confusion Matrix\n",
    "cm = confusion_matrix(y_test, y_pred)\n",
    "plt.figure(figsize=(5,4))\n",
    "sns.heatmap(cm, annot=True, fmt='d', cmap='Blues')\n",
    "plt.xlabel('Predicted'); plt.ylabel('Actual'); plt.title('Confusion Matrix')\n",
    "plt.show()\n",
    "\n",
    "# ROC Curve and AUC\n",
    "fpr, tpr, _ = roc_curve(y_test, y_proba)\n",
    "auc_score = roc_auc_score(y_test, y_proba)\n",
    "\n",
    "plt.figure(figsize=(6,4))\n",
    "plt.plot(fpr, tpr, label=f'AUC = {auc_score:.4f}')\n",
    "plt.plot([0,1], [0,1], '--', color='gray')\n",
    "plt.xlabel('False Positive Rate')\n",
    "plt.ylabel('True Positive Rate')\n",
    "plt.title('ROC Curve')\n",
    "plt.legend()\n",
    "plt.show()\n"
   ]
  },
  {
   "cell_type": "markdown",
   "id": "7be0374b",
   "metadata": {},
   "source": [
    "# Q5: What are the key factors that predict fraudulent customers?"
   ]
  },
  {
   "cell_type": "code",
   "execution_count": null,
   "id": "42617c2c",
   "metadata": {},
   "outputs": [],
   "source": [
    "import matplotlib.pyplot as plt\n",
    "import seaborn as sns\n",
    "\n",
    "# Get feature importances from the model\n",
    "importances = model.feature_importances_\n",
    "feature_names = X.columns\n",
    "\n",
    "# Create a DataFrame for easy sorting and plotting\n",
    "feat_imp_df = pd.DataFrame({\n",
    "    'Feature': feature_names,\n",
    "    'Importance': importances\n",
    "}).sort_values(by='Importance', ascending=False)\n",
    "\n",
    "# Display the DataFrame\n",
    "print(feat_imp_df)\n",
    "\n",
    "# Plot the top features\n",
    "plt.figure(figsize=(8, 5))\n",
    "sns.barplot(x='Importance', y='Feature', data=feat_imp_df)\n",
    "plt.title('Feature Importance from XGBoost Model')\n",
    "plt.tight_layout()\n",
    "plt.show()\n"
   ]
  },
  {
   "cell_type": "markdown",
   "id": "d7d529ec",
   "metadata": {},
   "source": [
    "# Q6: Do these factors make sense? If yes, how? If not, how not?"
   ]
  },
  {
   "cell_type": "code",
   "execution_count": null,
   "id": "c40927c4",
   "metadata": {},
   "outputs": [],
   "source": [
    "#verify the feature make sense\n",
    "\n",
    "# Separate fraud and non-fraud for comparison\n",
    "fraud = df[df['isFraud'] == 1]\n",
    "non_fraud = df[df['isFraud'] == 0]\n",
    "\n",
    "# Compare average values\n",
    "print(\"Mean Values Comparison:\\n\")\n",
    "print(f\"Amount - Fraud: {fraud['amount'].mean():,.2f}, Non-Fraud: {non_fraud['amount'].mean():,.2f}\")\n",
    "print(f\"deltaOrig - Fraud: {fraud['deltaOrig'].mean():,.2f}, Non-Fraud: {non_fraud['deltaOrig'].mean():,.2f}\")\n",
    "print(f\"deltaDest - Fraud: {fraud['deltaDest'].mean():,.2f}, Non-Fraud: {non_fraud['deltaDest'].mean():,.2f}\")\n",
    "\n",
    "# Plot distributions\n",
    "plt.figure(figsize=(14, 4))\n",
    "\n",
    "plt.subplot(1, 3, 1)\n",
    "sns.kdeplot(fraud['amount'], label='Fraud', fill=True)\n",
    "sns.kdeplot(non_fraud['amount'], label='Non-Fraud', fill=True)\n",
    "plt.title('Transaction Amount Distribution')\n",
    "plt.legend()\n",
    "\n",
    "plt.subplot(1, 3, 2)\n",
    "sns.kdeplot(fraud['deltaOrig'], label='Fraud', fill=True)\n",
    "sns.kdeplot(non_fraud['deltaOrig'], label='Non-Fraud', fill=True)\n",
    "plt.title('deltaOrig Distribution')\n",
    "plt.legend()\n",
    "\n",
    "plt.subplot(1, 3, 3)\n",
    "sns.kdeplot(fraud['deltaDest'], label='Fraud', fill=True)\n",
    "sns.kdeplot(non_fraud['deltaDest'], label='Non-Fraud', fill=True)\n",
    "plt.title('deltaDest Distribution')\n",
    "plt.legend()\n",
    "\n",
    "plt.tight_layout()\n",
    "plt.show()\n",
    "\n",
    "# Transfer type fraud rate\n",
    "fraud_transfer_rate = df[df['type'] == 'TRANSFER']['isFraud'].mean()\n",
    "fraud_cashout_rate = df[df['type'] == 'CASH_OUT']['isFraud'].mean()\n",
    "print(f\"\\nFraud Rate in TRANSFER transactions: {fraud_transfer_rate:.4f}\")\n",
    "print(f\"Fraud Rate in CASH_OUT transactions: {fraud_cashout_rate:.4f}\")\n",
    "\n",
    "\n",
    "#Feature     #Why It Makes Sense                                                                            \n",
    "#amount       : Fraudsters target large sums. Fraud transactions usually involve higher amounts.              \n",
    "#deltaOrig    : Measures how much was removed from sender. A big drop indicates suspicious withdrawal.        \n",
    "#deltaDest    : Measures how much was added to receiver. Big jumps indicate fraud.                      \n",
    "#type_TRANSFER: Almost all frauds happen during TRANSFER and CASH_OUT.'\n",
    "\n"
   ]
  },
  {
   "cell_type": "markdown",
   "id": "f12c93bd",
   "metadata": {},
   "source": [
    "# Q7: What kind of prevention should be adopted while the company updates its infrastructure?"
   ]
  },
  {
   "cell_type": "code",
   "execution_count": null,
   "id": "f88fb675",
   "metadata": {},
   "outputs": [],
   "source": [
    "#Prevention Strategies Let example\n",
    "df['flag_high_value'] = df['amount'] > 200000\n",
    "# how many of these were actually fraud\n",
    "flagged = df[df['flag_high_value']]\n",
    "fraud_rate_flagged = flagged['isFraud'].mean()\n",
    "print(f\"Flagged high-value transactions: {len(flagged)}\")\n",
    "print(f\"Fraud rate among them: {fraud_rate_flagged:.4f}\")"
   ]
  },
  {
   "cell_type": "code",
   "execution_count": null,
   "id": "235db40f",
   "metadata": {},
   "outputs": [],
   "source": [
    "#Flag risky transaction types (TRANSFER & CASH_OUT)\n",
    "\n",
    "df['flag_risky_type'] = df['type'].isin(['TRANSFER', 'CASH_OUT'])\n",
    "risky = df[df['flag_risky_type']]\n",
    "print(f\"Fraud rate in risky types: {risky['isFraud'].mean():.4f}\")"
   ]
  },
  {
   "cell_type": "markdown",
   "id": "8116bf0c",
   "metadata": {},
   "source": [
    "# Q8: Assuming these actions have been implemented, how would you determine if they worked?"
   ]
  },
  {
   "cell_type": "code",
   "execution_count": null,
   "id": "79ab1f90",
   "metadata": {},
   "outputs": [],
   "source": [
    "#To evaluate if fraud prevention actions actually reduced fraud and improved detection."
   ]
  },
  {
   "cell_type": "code",
   "execution_count": null,
   "id": "ebf0b665",
   "metadata": {
    "scrolled": true
   },
   "outputs": [],
   "source": [
    "#Compare fraud rate before and after a policy change\n",
    "\n",
    "before = df[df['step'] < 500]\n",
    "after = df[df['step'] >= 500]\n",
    "\n",
    "print(\"Fraud rate before:\", before['isFraud'].mean())\n",
    "print(\"Fraud rate after:\", after['isFraud'].mean())"
   ]
  },
  {
   "cell_type": "code",
   "execution_count": null,
   "id": "a7d3a426",
   "metadata": {},
   "outputs": [],
   "source": []
  },
  {
   "cell_type": "code",
   "execution_count": null,
   "id": "9726f462",
   "metadata": {},
   "outputs": [],
   "source": []
  }
 ],
 "metadata": {
  "kernelspec": {
   "display_name": "Python 3 (ipykernel)",
   "language": "python",
   "name": "python3"
  },
  "language_info": {
   "codemirror_mode": {
    "name": "ipython",
    "version": 3
   },
   "file_extension": ".py",
   "mimetype": "text/x-python",
   "name": "python",
   "nbconvert_exporter": "python",
   "pygments_lexer": "ipython3",
   "version": "3.11.5"
  }
 },
 "nbformat": 4,
 "nbformat_minor": 5
}
